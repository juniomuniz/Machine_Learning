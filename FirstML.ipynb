{
  "nbformat": 4,
  "nbformat_minor": 0,
  "metadata": {
    "colab": {
      "name": "FirstML.ipynb",
      "provenance": [],
      "authorship_tag": "ABX9TyM7bKTK+URq+L54BWG79fR7",
      "include_colab_link": true
    },
    "kernelspec": {
      "name": "python3",
      "display_name": "Python 3"
    },
    "language_info": {
      "name": "python"
    }
  },
  "cells": [
    {
      "cell_type": "markdown",
      "metadata": {
        "id": "view-in-github",
        "colab_type": "text"
      },
      "source": [
        "<a href=\"https://colab.research.google.com/github/juniomuniz/Machine_Learning/blob/main/FirstML.ipynb\" target=\"_parent\"><img src=\"https://colab.research.google.com/assets/colab-badge.svg\" alt=\"Open In Colab\"/></a>"
      ]
    },
    {
      "cell_type": "markdown",
      "metadata": {
        "id": "jA6mHJgaaaVo"
      },
      "source": [
        "#Features "
      ]
    },
    {
      "cell_type": "code",
      "metadata": {
        "id": "ps-dQZFRRUSR"
      },
      "source": [
        "# features (1 sim , 0 não)\n",
        "# longo? ()\n",
        "# perna curta?()\n",
        "# faz auau?()\n",
        "porcol1 = [0, 1, 0]\n",
        "porcol2 = [0, 1, 0]\n",
        "porcol3 = [1, 1, 1]\n",
        "\n",
        "cachorro1 =[0, 1, 1]\n",
        "cachorro2 =[1, 0, 1]\n",
        "cachorro3 =[1, 1, 1]"
      ],
      "execution_count": 1,
      "outputs": []
    },
    {
      "cell_type": "markdown",
      "metadata": {
        "id": "YYuG5kwPW7gn"
      },
      "source": [
        "#Data "
      ]
    },
    {
      "cell_type": "code",
      "metadata": {
        "id": "9_S4dm8qakwf"
      },
      "source": [
        "train_x =[porcol1, porcol2, porcol3, cachorro1, cachorro2, cachorro3]\n",
        "train_y = [1,1,1,0,0,0] # Labels"
      ],
      "execution_count": 2,
      "outputs": []
    },
    {
      "cell_type": "code",
      "metadata": {
        "id": "Q8-1pxaBb1Hl"
      },
      "source": [
        "from sklearn.svm import LinearSVC"
      ],
      "execution_count": 3,
      "outputs": []
    },
    {
      "cell_type": "code",
      "metadata": {
        "colab": {
          "base_uri": "https://localhost:8080/"
        },
        "id": "A9iJjaKKceC0",
        "outputId": "3735b0ee-d1ca-4de4-95c8-f6e62bb6bd35"
      },
      "source": [
        "\n",
        "model = LinearSVC()\n",
        "model.fit(train_x, train_y)\n"
      ],
      "execution_count": 4,
      "outputs": [
        {
          "output_type": "execute_result",
          "data": {
            "text/plain": [
              "LinearSVC(C=1.0, class_weight=None, dual=True, fit_intercept=True,\n",
              "          intercept_scaling=1, loss='squared_hinge', max_iter=1000,\n",
              "          multi_class='ovr', penalty='l2', random_state=None, tol=0.0001,\n",
              "          verbose=0)"
            ]
          },
          "metadata": {},
          "execution_count": 4
        }
      ]
    },
    {
      "cell_type": "code",
      "metadata": {
        "colab": {
          "base_uri": "https://localhost:8080/"
        },
        "id": "qkJWFIc8cty-",
        "outputId": "9f8e5a7e-a591-4808-f28c-eef4f1ff79f5"
      },
      "source": [
        "animal_strange = [1,1,1]\n",
        "model.predict([animal_strange])"
      ],
      "execution_count": 5,
      "outputs": [
        {
          "output_type": "execute_result",
          "data": {
            "text/plain": [
              "array([0])"
            ]
          },
          "metadata": {},
          "execution_count": 5
        }
      ]
    },
    {
      "cell_type": "code",
      "metadata": {
        "id": "tpH-FFFyd9oV"
      },
      "source": [
        "animal_strange1 =[1,1,1]\n",
        "animal_strange2 =[1,1,0]\n",
        "animal_strange3 = [0,1,1]\n",
        "test_x = [animal_strange1, animal_strange2, animal_strange3]\n",
        "test_y = [0,1,1]\n"
      ],
      "execution_count": 6,
      "outputs": []
    },
    {
      "cell_type": "code",
      "metadata": {
        "colab": {
          "base_uri": "https://localhost:8080/"
        },
        "id": "HzVUC2DSe7nl",
        "outputId": "ded8d913-0e8e-44a8-ea8c-417396526868"
      },
      "source": [
        "previsoes = model.predict(test_x)\n",
        "previsoes == test_y"
      ],
      "execution_count": 7,
      "outputs": [
        {
          "output_type": "execute_result",
          "data": {
            "text/plain": [
              "array([ True,  True, False])"
            ]
          },
          "metadata": {},
          "execution_count": 7
        }
      ]
    },
    {
      "cell_type": "markdown",
      "metadata": {
        "id": "ImI9UPr7oiBt"
      },
      "source": [
        "#Taxa de acerto "
      ]
    },
    {
      "cell_type": "code",
      "metadata": {
        "colab": {
          "base_uri": "https://localhost:8080/"
        },
        "id": "FVv0K8HajG30",
        "outputId": "8b009853-cc43-4066-912e-62b7da74c548"
      },
      "source": [
        "corretos = (previsoes == test_y).sum()\n",
        "total = len(test_x)\n",
        "taxa_de_acerto = corretos/total\n",
        "print(\"Taxa de Acerto: \",taxa_de_acerto*100, \"%\")"
      ],
      "execution_count": 8,
      "outputs": [
        {
          "output_type": "stream",
          "name": "stdout",
          "text": [
            "Taxa de Acerto:  66.66666666666666 %\n"
          ]
        }
      ]
    },
    {
      "cell_type": "markdown",
      "metadata": {
        "id": "OznZ3g_yoo5g"
      },
      "source": [
        "#Or"
      ]
    },
    {
      "cell_type": "code",
      "metadata": {
        "colab": {
          "base_uri": "https://localhost:8080/"
        },
        "id": "SF0lkfRbniif",
        "outputId": "5b183b91-bf15-4630-e648-b0190f5f7065"
      },
      "source": [
        "from sklearn.metrics import accuracy_score\n",
        "hit_rate = accuracy_score(test_y,previsoes)\n",
        "print(\"Taxa de Acerto: %.2f\"% (hit_rate*100), \"%\")"
      ],
      "execution_count": 15,
      "outputs": [
        {
          "output_type": "stream",
          "name": "stdout",
          "text": [
            "Taxa de Acerto: 66.67 %\n"
          ]
        }
      ]
    },
    {
      "cell_type": "code",
      "metadata": {
        "id": "7WnHr1UFodf1"
      },
      "source": [
        ""
      ],
      "execution_count": 9,
      "outputs": []
    },
    {
      "cell_type": "markdown",
      "metadata": {
        "id": "dbhxbCpAoecb"
      },
      "source": [
        ""
      ]
    }
  ]
}